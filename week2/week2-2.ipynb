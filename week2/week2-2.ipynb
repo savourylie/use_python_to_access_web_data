{
 "cells": [
  {
   "cell_type": "code",
   "execution_count": 14,
   "metadata": {},
   "outputs": [
    {
     "name": "stdout",
     "output_type": "stream",
     "text": [
      "395321\n"
     ]
    }
   ],
   "source": [
    "import re\n",
    "\n",
    "filename = 'regex_sum_377411.txt'\n",
    "with open(filename) as f:\n",
    "    content = f.readlines()\n",
    "    \n",
    "lines = [line.strip() for line in content]\n",
    "\n",
    "result_list = []\n",
    "\n",
    "for line in lines:\n",
    "    result_list.extend(re.findall('[0-9]+', line))\n",
    "    \n",
    "print(sum(list(map(int, result_list))))"
   ]
  }
 ],
 "metadata": {
  "anaconda-cloud": {},
  "kernelspec": {
   "display_name": "Python [conda env:thinkstats2]",
   "language": "python",
   "name": "conda-env-thinkstats2-py"
  },
  "language_info": {
   "codemirror_mode": {
    "name": "ipython",
    "version": 2
   },
   "file_extension": ".py",
   "mimetype": "text/x-python",
   "name": "python",
   "nbconvert_exporter": "python",
   "pygments_lexer": "ipython2",
   "version": "2.7.13"
  }
 },
 "nbformat": 4,
 "nbformat_minor": 2
}
